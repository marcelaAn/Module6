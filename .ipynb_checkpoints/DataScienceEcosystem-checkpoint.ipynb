{
 "cells": [
  {
   "cell_type": "markdown",
   "id": "e6799f53-6689-4d45-99ce-f2266210c6c7",
   "metadata": {
    "tags": []
   },
   "source": [
    "# Passo 2: Título do Notebook\n",
    "## Data Science Tools and Ecosystem"
   ]
  },
  {
   "cell_type": "markdown",
   "id": "c4a76c48-130a-459d-a2de-14316ce77137",
   "metadata": {
    "tags": []
   },
   "source": [
    "# Passo 3: Introdução\n",
    "Este notebook tem como objetivo apresentar as principais ferramentas, linguagens e bibliotecas utilizadas em Ciência de Dados."
   ]
  },
  {
   "cell_type": "markdown",
   "id": "6a01c635-21f1-42b2-87dd-e18abf67fd94",
   "metadata": {
    "tags": []
   },
   "source": [
    "# Passo 4: Linguagens de Ciência de Dados\n",
    "* Python\n",
    "* R\n",
    "* SQL"
   ]
  },
  {
   "cell_type": "markdown",
   "id": "6f2935d6-32bb-4d1c-8d83-99e7a4c970aa",
   "metadata": {},
   "source": [
    "# Passo 5: Bibliotecas de Ciência de Dados\n",
    "* NumPy\n",
    "* Pandas\n",
    "* Matplotlib"
   ]
  },
  {
   "cell_type": "markdown",
   "id": "9c2ef78a-993b-4990-b5bb-c06b0997b2ed",
   "metadata": {},
   "source": [
    "| Data Science Tools |\n",
    "|---|---|\n",
    "| Jupyter Notebook |\n",
    "| RStudio |\n",
    "| VS Code |"
   ]
  },
  {
   "cell_type": "markdown",
   "id": "02323096-0fc9-43ff-b527-ac40394ec930",
   "metadata": {
    "tags": []
   },
   "source": [
    "# Passo 6: Ferramentas de Ciência de Dados\n",
    "| Ferramenta | Descrição |\n",
    "|---|---|\n",
    "| Jupyter Notebook | Ambiente interativo para programação |\n",
    "| RStudio | IDE para a linguagem R |\n",
    "| VS Code | Editor de código versátil |"
   ]
  },
  {
   "cell_type": "markdown",
   "id": "4f316cdb-3f2f-4c4f-9263-32a7840af131",
   "metadata": {
    "tags": []
   },
   "source": [
    "# Passo 7: Exemplos de Expressões Aritméticas\n",
    "Abaixo, alguns exemplos de operações aritméticas em Python."
   ]
  },
  {
   "cell_type": "code",
   "execution_count": 12,
   "id": "a86ec2ae-b25f-434a-b206-27ec7f8cfafe",
   "metadata": {
    "tags": []
   },
   "outputs": [
    {
     "data": {
      "text/plain": [
       "17"
      ]
     },
     "execution_count": 12,
     "metadata": {},
     "output_type": "execute_result"
    }
   ],
   "source": [
    "# Passo 8: Multiplicação e adição\n",
    "(3 * 4) + 5"
   ]
  },
  {
   "cell_type": "code",
   "execution_count": 13,
   "id": "52d7960b-4f02-440c-ae93-f85c547d679d",
   "metadata": {
    "tags": []
   },
   "outputs": [
    {
     "data": {
      "text/plain": [
       "3.3333333333333335"
      ]
     },
     "execution_count": 13,
     "metadata": {},
     "output_type": "execute_result"
    }
   ],
   "source": [
    "# Passo 9: Conversão de minutos para horas\n",
    "200 / 60"
   ]
  },
  {
   "cell_type": "markdown",
   "id": "d4aa83ed-c096-492b-9762-2e34efc80d65",
   "metadata": {},
   "source": [
    "# Objetivos\n",
    "* Apresentar as principais linguagens e bibliotecas para Ciência de Dados.\n",
    "* Demonstrar operações matemáticas básicas em Python.\n",
    "* Introduzir ferramentas de desenvolvimento para Ciência de Dados."
   ]
  },
  {
   "cell_type": "markdown",
   "id": "7fe804aa-dee9-4d8c-a1ab-2e751d46beb4",
   "metadata": {},
   "source": [
    "## Autor\n",
    "Marcela An"
   ]
  }
 ],
 "metadata": {
  "kernelspec": {
   "display_name": "Python",
   "language": "python",
   "name": "conda-env-python-py"
  },
  "language_info": {
   "codemirror_mode": {
    "name": "ipython",
    "version": 3
   },
   "file_extension": ".py",
   "mimetype": "text/x-python",
   "name": "python",
   "nbconvert_exporter": "python",
   "pygments_lexer": "ipython3",
   "version": "3.7.12"
  }
 },
 "nbformat": 4,
 "nbformat_minor": 5
}
